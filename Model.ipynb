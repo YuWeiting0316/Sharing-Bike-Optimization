{
 "cells": [
  {
   "cell_type": "code",
   "execution_count": 12,
   "id": "264ba4b4",
   "metadata": {},
   "outputs": [],
   "source": [
    "import gurobipy as gp\n",
    "from gurobipy import GRB\n",
    "import pandas as pd"
   ]
  },
  {
   "cell_type": "code",
   "execution_count": 13,
   "id": "81525927",
   "metadata": {},
   "outputs": [],
   "source": [
    "# 7.2\n",
    "flow = pd.read_csv('LSTMresult.csv')\n",
    "date_filter = flow['date'] == '2017/7/2'\n",
    "filtered_flow = flow[date_filter]\n",
    "in_flow = filtered_flow['in_bike'].tolist()\n",
    "out_flow = filtered_flow['out_bike'].tolist()\n",
    "\n",
    "station_id = pd.read_excel('station_ID_Capacity.xlsx')\n",
    "original = station_id['original'].tolist()"
   ]
  },
  {
   "cell_type": "code",
   "execution_count": 14,
   "id": "a04844bb",
   "metadata": {},
   "outputs": [
    {
     "name": "stdout",
     "output_type": "stream",
     "text": [
      "Gurobi Optimizer version 10.0.3 build v10.0.3rc0 (win64)\n",
      "\n",
      "CPU model: 12th Gen Intel(R) Core(TM) i7-1260P, instruction set [SSE2|AVX|AVX2]\n",
      "Thread count: 12 physical cores, 16 logical processors, using up to 16 threads\n",
      "\n",
      "Optimize a model with 63 rows, 962 columns and 4651 nonzeros\n",
      "Model fingerprint: 0xc50e6fd5\n",
      "Variable types: 1 continuous, 961 integer (0 binary)\n",
      "Coefficient statistics:\n",
      "  Matrix range     [2e-01, 7e+00]\n",
      "  Objective range  [1e+00, 1e+00]\n",
      "  Bounds range     [0e+00, 0e+00]\n",
      "  RHS range        [1e+00, 2e+01]\n",
      "Found heuristic solution: objective 10.1336741\n",
      "Presolve removed 32 rows and 32 columns\n",
      "Presolve time: 0.01s\n",
      "Presolved: 31 rows, 930 columns, 1860 nonzeros\n",
      "Variable types: 0 continuous, 930 integer (0 binary)\n",
      "Found heuristic solution: objective 9.0867619\n",
      "\n",
      "Root relaxation: objective 6.429028e+00, 5 iterations, 0.00 seconds (0.00 work units)\n",
      "\n",
      "    Nodes    |    Current Node    |     Objective Bounds      |     Work\n",
      " Expl Unexpl |  Obj  Depth IntInf | Incumbent    BestBd   Gap | It/Node Time\n",
      "\n",
      "*    0     0               0       6.4290285    6.42903  0.00%     -    0s\n",
      "\n",
      "Explored 1 nodes (5 simplex iterations) in 0.05 seconds (0.00 work units)\n",
      "Thread count was 16 (of 16 available processors)\n",
      "\n",
      "Solution count 3: 6.42903 9.08676 10.1337 \n",
      "\n",
      "Optimal solution found (tolerance 1.00e-04)\n",
      "Best objective 6.429028499799e+00, best bound 6.429028499799e+00, gap 0.0000%\n",
      "Optimal Bike Transfers:\n",
      "Transfer 1 bikes from 2 to 13\n",
      "Transfer 1 bikes from 11 to 15\n",
      "Transfer 2 bikes from 15 to 12\n",
      "Transfer 5 bikes from 22 to 16\n"
     ]
    }
   ],
   "source": [
    "# station id and capacity\n",
    "stations = station_id['Station'].tolist()\n",
    "capacity = station_id['capacity'].tolist()\n",
    "\n",
    "# distance matrix\n",
    "distance = pd.read_excel('distance_matrix.xlsx', header=None)\n",
    "distance =distance.drop(distance .columns[0], axis=1)\n",
    "distance =distance.drop(0)\n",
    "distance_matrix = distance.values\n",
    "\n",
    "# in and out from prediction\n",
    "flow = pd.read_csv('LSTMresult.csv')\n",
    "\n",
    "# Create the optimization model\n",
    "m = gp.Model(\"BikeTransferOptimization\")\n",
    "\n",
    "# Decision Variables\n",
    "transfer_bikes = m.addVars(stations, stations, vtype=GRB.INTEGER, name=\"transfer_bikes\")\n",
    "\n",
    "# Objective Function: Minimize total distance traveled\n",
    "total_distance = m.addVar()\n",
    "\n",
    "m.addConstr(total_distance == gp.quicksum(distance_matrix[i][j] * transfer_bikes[stations[i], stations[j]] for i in range(len(stations)) for j in range(len(stations)) if i != j))\n",
    "m.setObjective(total_distance, GRB.MINIMIZE)\n",
    "\n",
    "# Constraints\n",
    "for i in range(len(stations)):\n",
    "    # Station balance constraint\n",
    "    m.addConstr(gp.quicksum(transfer_bikes[stations[j], stations[i]] for j in range(len(stations))) + original[i] + in_flow[i] - out_flow[i] - gp.quicksum(transfer_bikes[stations[i], stations[j]] for j in range(len(stations))) >= 0, f\"balance_{stations[i]}\")\n",
    "\n",
    "    # Station capacity constraint\n",
    "    m.addConstr(gp.quicksum(transfer_bikes[stations[i], stations[j]] for j in range(len(stations))) + original[i] + in_flow[i]- out_flow[i] - gp.quicksum(transfer_bikes[stations[j], stations[i]] for j in range(len(stations))) <= capacity[i], f\"capacity_{stations[i]}\")\n",
    "    \n",
    "\n",
    "# Solve the model\n",
    "m.optimize()\n",
    "\n",
    "if m.status == GRB.OPTIMAL:\n",
    "    print(\"Optimal Bike Transfers:\")\n",
    "    for i in range(len(stations)):\n",
    "        for j in range(len(stations)):\n",
    "            if i != j:\n",
    "                transfer_value = transfer_bikes[stations[i], stations[j]].x\n",
    "                if transfer_value > 0:\n",
    "                    print(f\"Transfer {int(transfer_value)} bikes from {stations[i]} to {stations[j]}\")\n",
    "else:\n",
    "    print(\"No optimal solution found.\")"
   ]
  },
  {
   "cell_type": "code",
   "execution_count": 65,
   "id": "eb878302",
   "metadata": {},
   "outputs": [],
   "source": [
    "# 7.3 based on original\n",
    "date_filter = flow['date'] == '2017/7/3'\n",
    "filtered_flow = flow[date_filter]\n",
    "in_flow = filtered_flow['in_bike'].tolist()\n",
    "out_flow = filtered_flow['out_bike'].tolist()\n",
    "\n",
    "station_id = pd.read_excel('7.2(O).xlsx')\n",
    "original = station_id['next_day'].tolist()"
   ]
  },
  {
   "cell_type": "code",
   "execution_count": 68,
   "id": "02b494b7",
   "metadata": {},
   "outputs": [],
   "source": [
    "# 7.3 based on capacity\n",
    "date_filter = flow['date'] == '2017/7/3'\n",
    "filtered_flow = flow[date_filter]\n",
    "in_flow = filtered_flow['in_bike'].tolist()\n",
    "out_flow = filtered_flow['out_bike'].tolist()\n",
    "\n",
    "station_id = pd.read_excel('7.2(C).xlsx')\n",
    "original = station_id['next_day'].tolist()"
   ]
  },
  {
   "cell_type": "code",
   "execution_count": 71,
   "id": "e336e10f",
   "metadata": {},
   "outputs": [],
   "source": [
    "# 7.4 based on original\n",
    "date_filter = flow['date'] == '2017/7/4'\n",
    "filtered_flow = flow[date_filter]\n",
    "in_flow = filtered_flow['in_bike'].tolist()\n",
    "out_flow = filtered_flow['out_bike'].tolist()\n",
    "\n",
    "station_id = pd.read_excel('7.3(O).xlsx')\n",
    "original = station_id['next_day'].tolist()"
   ]
  },
  {
   "cell_type": "code",
   "execution_count": 74,
   "id": "774586f5",
   "metadata": {},
   "outputs": [],
   "source": [
    "# 7.4 based on capacity\n",
    "date_filter = flow['date'] == '2017/7/4'\n",
    "filtered_flow = flow[date_filter]\n",
    "in_flow = filtered_flow['in_bike'].tolist()\n",
    "out_flow = filtered_flow['out_bike'].tolist()\n",
    "\n",
    "station_id = pd.read_excel('7.3(C).xlsx')\n",
    "original = station_id['next_day'].tolist()"
   ]
  },
  {
   "cell_type": "code",
   "execution_count": 78,
   "id": "dc6e1e9b",
   "metadata": {},
   "outputs": [],
   "source": [
    "# 7.5 based on original\n",
    "date_filter = flow['date'] == '2017/7/5'\n",
    "filtered_flow = flow[date_filter]\n",
    "in_flow = filtered_flow['in_bike'].tolist()\n",
    "out_flow = filtered_flow['out_bike'].tolist()\n",
    "\n",
    "station_id = pd.read_excel('7.4(O).xlsx')\n",
    "original = station_id['next_day'].tolist()"
   ]
  },
  {
   "cell_type": "code",
   "execution_count": 82,
   "id": "f1580ceb",
   "metadata": {},
   "outputs": [],
   "source": [
    "# 7.5 based on capacity\n",
    "date_filter = flow['date'] == '2017/7/5'\n",
    "filtered_flow = flow[date_filter]\n",
    "in_flow = filtered_flow['in_bike'].tolist()\n",
    "out_flow = filtered_flow['out_bike'].tolist()\n",
    "\n",
    "station_id = pd.read_excel('7.4(C).xlsx')\n",
    "original = station_id['next_day'].tolist()"
   ]
  },
  {
   "cell_type": "code",
   "execution_count": 85,
   "id": "bae8dc3f",
   "metadata": {},
   "outputs": [],
   "source": [
    "# 7.6 based on original\n",
    "date_filter = flow['date'] == '2017/7/6'\n",
    "filtered_flow = flow[date_filter]\n",
    "in_flow = filtered_flow['in_bike'].tolist()\n",
    "out_flow = filtered_flow['out_bike'].tolist()\n",
    "\n",
    "station_id = pd.read_excel('7.5(O).xlsx')\n",
    "original = station_id['next_day'].tolist()"
   ]
  },
  {
   "cell_type": "code",
   "execution_count": 88,
   "id": "3a172e48",
   "metadata": {},
   "outputs": [],
   "source": [
    "# 7.6 based on capacity\n",
    "date_filter = flow['date'] == '2017/7/6'\n",
    "filtered_flow = flow[date_filter]\n",
    "in_flow = filtered_flow['in_bike'].tolist()\n",
    "out_flow = filtered_flow['out_bike'].tolist()\n",
    "\n",
    "station_id = pd.read_excel('7.5(C).xlsx')\n",
    "original = station_id['next_day'].tolist()"
   ]
  },
  {
   "cell_type": "code",
   "execution_count": 92,
   "id": "cb013418",
   "metadata": {},
   "outputs": [],
   "source": [
    "# 7.7 based on original\n",
    "date_filter = flow['date'] == '2017/7/7'\n",
    "filtered_flow = flow[date_filter]\n",
    "in_flow = filtered_flow['in_bike'].tolist()\n",
    "out_flow = filtered_flow['out_bike'].tolist()\n",
    "\n",
    "station_id = pd.read_excel('7.6(O).xlsx')\n",
    "original = station_id['next_day'].tolist()"
   ]
  },
  {
   "cell_type": "code",
   "execution_count": 95,
   "id": "39834563",
   "metadata": {},
   "outputs": [],
   "source": [
    "# 7.7 based on capacity\n",
    "date_filter = flow['date'] == '2017/7/7'\n",
    "filtered_flow = flow[date_filter]\n",
    "in_flow = filtered_flow['in_bike'].tolist()\n",
    "out_flow = filtered_flow['out_bike'].tolist()\n",
    "\n",
    "station_id = pd.read_excel('7.6(C).xlsx')\n",
    "original = station_id['next_day'].tolist()"
   ]
  },
  {
   "cell_type": "code",
   "execution_count": 98,
   "id": "05dac64b",
   "metadata": {},
   "outputs": [],
   "source": [
    "# 7.8 based on original\n",
    "date_filter = flow['date'] == '2017/7/8'\n",
    "filtered_flow = flow[date_filter]\n",
    "in_flow = filtered_flow['in_bike'].tolist()\n",
    "out_flow = filtered_flow['out_bike'].tolist()\n",
    "\n",
    "station_id = pd.read_excel('7.7(O).xlsx')\n",
    "original = station_id['next_day'].tolist()"
   ]
  },
  {
   "cell_type": "code",
   "execution_count": 101,
   "id": "568633b2",
   "metadata": {},
   "outputs": [],
   "source": [
    "# 7.8 based on capacity\n",
    "date_filter = flow['date'] == '2017/7/8'\n",
    "filtered_flow = flow[date_filter]\n",
    "in_flow = filtered_flow['in_bike'].tolist()\n",
    "out_flow = filtered_flow['out_bike'].tolist()\n",
    "\n",
    "station_id = pd.read_excel('7.7(C).xlsx')\n",
    "original = station_id['next_day'].tolist()\n",
    "# infeasible"
   ]
  },
  {
   "cell_type": "code",
   "execution_count": 104,
   "id": "bbf69ccf",
   "metadata": {},
   "outputs": [],
   "source": [
    "# 7.9 based on original\n",
    "date_filter = flow['date'] == '2017/7/9'\n",
    "filtered_flow = flow[date_filter]\n",
    "in_flow = filtered_flow['in_bike'].tolist()\n",
    "out_flow = filtered_flow['out_bike'].tolist()\n",
    "\n",
    "station_id = pd.read_excel('7.8(O).xlsx')\n",
    "original = station_id['next_day'].tolist()"
   ]
  },
  {
   "cell_type": "code",
   "execution_count": 5,
   "id": "cae843ad",
   "metadata": {},
   "outputs": [],
   "source": [
    "# to excel\n",
    "if m.status == GRB.OPTIMAL:\n",
    "    # Extract the results\n",
    "    results = []\n",
    "    for i in range(len(stations)):\n",
    "        net_movement = sum(transfer_bikes[stations[j], stations[i]].x for j in range(len(stations)) if i != j) - sum(transfer_bikes[stations[i], stations[j]].x for j in range(len(stations)) if i != j)\n",
    "        results.append([stations[i], net_movement])\n",
    "\n",
    "    # Create a DataFrame for the results\n",
    "    results_df = pd.DataFrame(results, columns=['Station', 'NetBikesMoved'])\n",
    "\n",
    "    # Export the DataFrame to an Excel file\n",
    "    results_df.to_excel('test.xlsx', index=False)\n",
    "else:\n",
    "    print(\"No optimal solution found.\")"
   ]
  },
  {
   "cell_type": "code",
   "execution_count": null,
   "id": "085d3b36",
   "metadata": {},
   "outputs": [],
   "source": []
  }
 ],
 "metadata": {
  "kernelspec": {
   "display_name": "Python 3 (ipykernel)",
   "language": "python",
   "name": "python3"
  },
  "language_info": {
   "codemirror_mode": {
    "name": "ipython",
    "version": 3
   },
   "file_extension": ".py",
   "mimetype": "text/x-python",
   "name": "python",
   "nbconvert_exporter": "python",
   "pygments_lexer": "ipython3",
   "version": "3.11.4"
  }
 },
 "nbformat": 4,
 "nbformat_minor": 5
}
